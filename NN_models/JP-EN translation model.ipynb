{
 "cells": [
  {
   "cell_type": "code",
   "execution_count": 7,
   "metadata": {},
   "outputs": [],
   "source": [
    "import tensorflow as tf\n",
    "\n",
    "import io\n",
    "import os\n",
    "import unicodedata\n",
    "import re\n",
    "import mojimoji"
   ]
  },
  {
   "cell_type": "markdown",
   "metadata": {},
   "source": [
    "### Import dataset"
   ]
  },
  {
   "cell_type": "code",
   "execution_count": 3,
   "metadata": {},
   "outputs": [],
   "source": [
    "def create_dataset(path, num_examples):\n",
    "    lines = io.open(path, encoding='UTF-8').read().strip().split('\\n')\n",
    "\n",
    "    word_pairs = [[w for w in l.split('\\t')]  for l in lines[:num_examples]]\n",
    "\n",
    "    return zip(*word_pairs)"
   ]
  },
  {
   "cell_type": "code",
   "execution_count": null,
   "metadata": {},
   "outputs": [],
   "source": [
    "# move current directory to get access to dataset directory\n",
    "benchmark_directory = os.getcwd()\n",
    "os.chdir(os.path.join(benchmark_directory, './..'))"
   ]
  },
  {
   "cell_type": "code",
   "execution_count": 4,
   "metadata": {},
   "outputs": [],
   "source": [
    "# start with 30000 for local training\n",
    "en, jp = create_dataset('./datasets/jesc-corpus.txt', 30000)"
   ]
  },
  {
   "cell_type": "markdown",
   "metadata": {},
   "source": [
    "### Preprocess Text"
   ]
  },
  {
   "cell_type": "code",
   "execution_count": 8,
   "metadata": {},
   "outputs": [],
   "source": [
    "# convert any half-width katakana to normal-width katakana using mojimoji library\n",
    "def norm_kt(text):\n",
    "    return mojimoji.han_to_zen(text)"
   ]
  },
  {
   "cell_type": "code",
   "execution_count": 10,
   "metadata": {},
   "outputs": [
    {
     "name": "stdout",
     "output_type": "stream",
     "text": [
      "ﾆｭｰﾗﾙﾈｯﾄﾜｰｸ: ニューラルネットワーク\n"
     ]
    }
   ],
   "source": [
    "print(\"ﾆｭｰﾗﾙﾈｯﾄﾜｰｸ: \" + norm_kt(\"ﾆｭｰﾗﾙﾈｯﾄﾜｰｸ\"))"
   ]
  },
  {
   "cell_type": "code",
   "execution_count": 14,
   "metadata": {},
   "outputs": [],
   "source": [
    "# convert unicode to ascii\n",
    "def jp_unicode_to_ascii(text):\n",
    "    return ''.join(ascii_text for ascii_text in unicodedata.normalize('NFKD', text))\n",
    "\n",
    "# remove any accented characters for English-language text\n",
    "def en_unicode_to_ascii(text):\n",
    "    return ''.join(ascii_text for ascii_text in unicodedata.normalize('NFKD', text)\n",
    "                   .encode('ascii', 'ignore').decode('utf-8', 'ignore'))"
   ]
  },
  {
   "cell_type": "code",
   "execution_count": 15,
   "metadata": {},
   "outputs": [
    {
     "name": "stdout",
     "output_type": "stream",
     "text": [
      "It's in my resume.\n",
      "それは履歴書にあります。\n"
     ]
    }
   ],
   "source": [
    "print(en_unicode_to_ascii(\"It's in my résumé.\"))\n",
    "print(jp_unicode_to_ascii(\"それは履歴書にあります。\"))"
   ]
  },
  {
   "cell_type": "code",
   "execution_count": 30,
   "metadata": {},
   "outputs": [],
   "source": [
    "# keep only Kanji, Hiragana, Katakana, numerals, and common punctuation: (\"。\", \"、\", \"?\", \"!\", \"！\"))\n",
    "def jp_preprocessing_and_spacing(text):\n",
    "    text = re.sub(r\"([。、?!！])\", r\" \\1\", text)\n",
    "    pattern = r\"[^\\u3041-\\u309F\\u30A1-\\u30FF\\uFF66-\\uFF9F\\u4E00-\\u9FD0\\u309B\\u3099\\uFF9E\\u309C\\u309A\\uFF9F?!！\\s、。.,0-9]+\"\n",
    "    text = re.sub(pattern, '', text).rstrip().strip()\n",
    "\n",
    "    # add spaces between words and punctuation\n",
    "    text = re.sub(r'[\" \"]+', \" \", text)\n",
    "    # remove interpunct (黒丸)\n",
    "    text = text.replace(\"・\" , \"\")\n",
    "\n",
    "    text = text.lower()\n",
    "\n",
    "    return text\n",
    "\n",
    "# remove special characters and place spaces between words and punctuation\n",
    "def en_preprocessing_and_spacing(text):\n",
    "    text = en_unicode_to_ascii(text.lower().strip())\n",
    "\n",
    "    # Reference:- https://stackoverflow.com/questions/3645931/python-padding-punctuation-with-white-spaces-keeping-punctuation\n",
    "    text = re.sub(r\"([?.!,])\", r\" \\1 \", text)\n",
    "    text = re.sub(r'[\" \"]+', \" \", text)\n",
    "\n",
    "    # replacing everything with space except (a-z, A-Z, \".\", \"?\", \"!\", \",\")\n",
    "    text = re.sub(r\"[^a-zA-Z?.!,]+\", \" \", text)\n",
    "    text = text.strip()\n",
    "\n",
    "    return text"
   ]
  },
  {
   "cell_type": "code",
   "execution_count": 31,
   "metadata": {},
   "outputs": [
    {
     "name": "stdout",
     "output_type": "stream",
     "text": [
      "hello , email world !\n",
      "こんにちは 、エメール世界 ！\n"
     ]
    }
   ],
   "source": [
    "print(en_preprocessing_and_spacing('Hello, email@world!'))\n",
    "print(jp_preprocessing_and_spacing('こんにちは、エメール＠世界！'))"
   ]
  },
  {
   "cell_type": "markdown",
   "metadata": {},
   "source": [
    "### Normalize Text"
   ]
  },
  {
   "cell_type": "code",
   "execution_count": 37,
   "metadata": {},
   "outputs": [],
   "source": [
    "# utilize preprocessing functions and mark start and end of sentences\n",
    "def normalize_text(japanese_text, english_text):\n",
    "    \n",
    "    inputs = []\n",
    "    targets = []\n",
    "    \n",
    "    for jp_text, en_text in zip(japanese_text, english_text):\n",
    "\n",
    "        # normalize Japanese\n",
    "        jp_text = jp_unicode_to_ascii(jp_text)\n",
    "        jp_text = jp_preprocessing(jp_text)\n",
    "        jp_text = norm_kt(jp_text)\n",
    "\n",
    "        jp_text = \"<start> \" + jp_text + \" <end>\"\n",
    "        \n",
    "        inputs.append(jp_text)\n",
    "        \n",
    "        # normalize English\n",
    "        en_text = en_unicode_to_ascii(en_text)\n",
    "        en_text = en_preprocessing(en_text)\n",
    "\n",
    "        en_text = \"<start> \" + en_text + \" <end>\"\n",
    "        targets.append(en_text)\n",
    "\n",
    "    return inputs, targets"
   ]
  },
  {
   "cell_type": "code",
   "execution_count": 38,
   "metadata": {},
   "outputs": [],
   "source": [
    "inputs, targets = normalize_text(jp, en)"
   ]
  },
  {
   "cell_type": "code",
   "execution_count": 41,
   "metadata": {},
   "outputs": [
    {
     "name": "stdout",
     "output_type": "stream",
     "text": [
      "<start> あなたは戻ったのね　ハロルド　？ <end>\n",
      "<start> you are back , aren t you , harold ? <end>\n",
      "<start> 俺の相手は　シャークだ　。 <end>\n",
      "<start> my opponent is shark . <end>\n",
      "<start> 引き換えだ　ある事とある物の <end>\n",
      "<start> this is one thing in exchange for another . <end>\n",
      "<start> もういいよ　ごちそうさま　ううん <end>\n",
      "<start> yeah , i m fine . <end>\n",
      "<start> もう会社には来ないでくれ　電話もするな <end>\n",
      "<start> don t come to the office anymore . don t call me either . <end>\n",
      "<start> きれいだ　。 <end>\n",
      "<start> looks beautiful . <end>\n",
      "<start> 連れて行け　殺しそうだ　わかったか　？ <end>\n",
      "<start> get him out of here , because i will fucking kill him . <end>\n",
      "<start> 殺したのか　！ <end>\n",
      "<start> you killed him ! <end>\n",
      "<start> わぁ　！　いつも　すみません　。　いいのよ　。 <end>\n",
      "<start> okay , then who ? <end>\n",
      "<start> カンパニーの元社員が <end>\n",
      "<start> it seems a former employee . . . <end>\n"
     ]
    }
   ],
   "source": [
    "for i in range(10):\n",
    "    print(inputs[i])\n",
    "    print(targets[i])"
   ]
  },
  {
   "cell_type": "code",
   "execution_count": null,
   "metadata": {},
   "outputs": [],
   "source": []
  }
 ],
 "metadata": {
  "kernelspec": {
   "display_name": "Python 3",
   "language": "python",
   "name": "python3"
  },
  "language_info": {
   "codemirror_mode": {
    "name": "ipython",
    "version": 3
   },
   "file_extension": ".py",
   "mimetype": "text/x-python",
   "name": "python",
   "nbconvert_exporter": "python",
   "pygments_lexer": "ipython3",
   "version": "3.7.7"
  }
 },
 "nbformat": 4,
 "nbformat_minor": 4
}
