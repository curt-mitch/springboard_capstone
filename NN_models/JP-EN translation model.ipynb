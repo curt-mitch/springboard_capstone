{
 "cells": [
  {
   "cell_type": "code",
   "execution_count": 11,
   "metadata": {},
   "outputs": [],
   "source": [
    "import tensorflow as tf\n",
    "\n",
    "import io\n",
    "import os\n",
    "import unicodedata\n",
    "import re"
   ]
  },
  {
   "cell_type": "markdown",
   "metadata": {},
   "source": [
    "### Import dataset"
   ]
  },
  {
   "cell_type": "code",
   "execution_count": 2,
   "metadata": {},
   "outputs": [],
   "source": [
    "# move current directory to get to access dataset directory\n",
    "benchmark_directory = os.getcwd()\n",
    "os.chdir(os.path.join(benchmark_directory, './..'))"
   ]
  },
  {
   "cell_type": "code",
   "execution_count": 17,
   "metadata": {},
   "outputs": [],
   "source": [
    "def create_dataset(path, num_examples):\n",
    "    lines = io.open(path, encoding='UTF-8').read().strip().split('\\n')\n",
    "\n",
    "    word_pairs = [[w for w in l.split('\\t')]  for l in lines[:num_examples]]\n",
    "\n",
    "    return zip(*word_pairs)"
   ]
  },
  {
   "cell_type": "code",
   "execution_count": 18,
   "metadata": {},
   "outputs": [],
   "source": [
    "# start with 30000 for local training\n",
    "en, jp = create_dataset('./datasets/jesc-corpus.txt', 30000)"
   ]
  },
  {
   "cell_type": "code",
   "execution_count": 19,
   "metadata": {},
   "outputs": [
    {
     "data": {
      "text/plain": [
       "(\"you are back, aren't you, harold?\",\n",
       " 'my opponent is shark.',\n",
       " 'this is one thing in exchange for another.',\n",
       " \"yeah, i'm fine.\",\n",
       " \"don't come to the office anymore. don't call me either.\",\n",
       " 'looks beautiful.',\n",
       " 'get him out of here, because i will fucking kill him.',\n",
       " 'you killed him!',\n",
       " 'okay, then who?',\n",
       " 'it seems a former employee...')"
      ]
     },
     "execution_count": 19,
     "metadata": {},
     "output_type": "execute_result"
    }
   ],
   "source": [
    "en[:10]"
   ]
  },
  {
   "cell_type": "code",
   "execution_count": 20,
   "metadata": {},
   "outputs": [
    {
     "data": {
      "text/plain": [
       "('あなたは戻ったのね ハロルド?',\n",
       " '俺の相手は シャークだ。',\n",
       " '引き換えだ ある事とある物の',\n",
       " 'もういいよ ごちそうさま ううん',\n",
       " 'もう会社には来ないでくれ 電話もするな',\n",
       " 'きれいだ。',\n",
       " '連れて行け 殺しそうだ わかったか?',\n",
       " '殺したのか!',\n",
       " 'わぁ~! いつも すみません。 いいのよ~。',\n",
       " 'カンパニーの元社員が')"
      ]
     },
     "execution_count": 20,
     "metadata": {},
     "output_type": "execute_result"
    }
   ],
   "source": [
    "jp[:10]"
   ]
  },
  {
   "cell_type": "code",
   "execution_count": null,
   "metadata": {},
   "outputs": [],
   "source": []
  }
 ],
 "metadata": {
  "kernelspec": {
   "display_name": "Python 3",
   "language": "python",
   "name": "python3"
  },
  "language_info": {
   "codemirror_mode": {
    "name": "ipython",
    "version": 3
   },
   "file_extension": ".py",
   "mimetype": "text/x-python",
   "name": "python",
   "nbconvert_exporter": "python",
   "pygments_lexer": "ipython3",
   "version": "3.7.7"
  }
 },
 "nbformat": 4,
 "nbformat_minor": 4
}
