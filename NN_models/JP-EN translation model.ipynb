{
 "cells": [
  {
   "cell_type": "code",
   "execution_count": 29,
   "metadata": {},
   "outputs": [],
   "source": [
    "import tensorflow as tf\n",
    "\n",
    "import io\n",
    "import os\n",
    "import unicodedata\n",
    "import re\n",
    "import mojimoji\n",
    "from spacy.lang.ja import Japanese\n",
    "from sklearn.model_selection import train_test_split"
   ]
  },
  {
   "cell_type": "markdown",
   "metadata": {},
   "source": [
    "### Import dataset"
   ]
  },
  {
   "cell_type": "code",
   "execution_count": 2,
   "metadata": {},
   "outputs": [],
   "source": [
    "def create_dataset(path, num_examples):\n",
    "    lines = io.open(path, encoding='UTF-8').read().strip().split('\\n')\n",
    "\n",
    "    word_pairs = [[w for w in l.split('\\t')]  for l in lines[:num_examples]]\n",
    "\n",
    "    return zip(*word_pairs)"
   ]
  },
  {
   "cell_type": "code",
   "execution_count": 3,
   "metadata": {},
   "outputs": [],
   "source": [
    "# move current directory to get access to dataset directory\n",
    "benchmark_directory = os.getcwd()\n",
    "os.chdir(os.path.join(benchmark_directory, './..'))"
   ]
  },
  {
   "cell_type": "code",
   "execution_count": 4,
   "metadata": {},
   "outputs": [],
   "source": [
    "# start with 30000 for local training\n",
    "en, jp = create_dataset('./datasets/jesc-corpus.txt', 30000)"
   ]
  },
  {
   "cell_type": "markdown",
   "metadata": {},
   "source": [
    "### Preprocess Text"
   ]
  },
  {
   "cell_type": "code",
   "execution_count": 7,
   "metadata": {},
   "outputs": [],
   "source": [
    "# Tokenize Japanese text (since Japanese doesn't naturally put spaces between words)\n",
    "\n",
    "# reference: https://github.com/WorksApplications/SudachiPy\n",
    "# Load SudachiPy with split mode B: \"国家公務員\" => ['国家', '公務員']\n",
    "# default is split mode A: \"国家公務員\" => ['国家公務員']\n",
    "# NOTE: this may be worth adjusting in future training\n",
    "jcfg = {\"split_mode\": \"B\"}\n",
    "j_tokenizer = Japanese(meta={\"tokenizer\": {\"config\": jcfg}})\n",
    "\n",
    "def tokenize_jp_sentence(text):\n",
    "    return \" \".join([i.text for i in j_tokenizer(text)])"
   ]
  },
  {
   "cell_type": "code",
   "execution_count": 8,
   "metadata": {},
   "outputs": [
    {
     "name": "stdout",
     "output_type": "stream",
     "text": [
      "あなたは戻ったのね ハロルド?\n",
      "あなた は 戻っ た の ね ハロルド ?\n"
     ]
    }
   ],
   "source": [
    "print(jp[0])\n",
    "print(tokenize_jp_sentence(jp[0]))"
   ]
  },
  {
   "cell_type": "code",
   "execution_count": 9,
   "metadata": {},
   "outputs": [],
   "source": [
    "# convert any half-width katakana to normal-width katakana using mojimoji library\n",
    "def norm_kt(text):\n",
    "    return mojimoji.han_to_zen(text)"
   ]
  },
  {
   "cell_type": "code",
   "execution_count": 10,
   "metadata": {},
   "outputs": [
    {
     "name": "stdout",
     "output_type": "stream",
     "text": [
      "ﾆｭｰﾗﾙﾈｯﾄﾜｰｸ: ニューラルネットワーク\n"
     ]
    }
   ],
   "source": [
    "print(\"ﾆｭｰﾗﾙﾈｯﾄﾜｰｸ: \" + norm_kt(\"ﾆｭｰﾗﾙﾈｯﾄﾜｰｸ\"))"
   ]
  },
  {
   "cell_type": "code",
   "execution_count": 11,
   "metadata": {},
   "outputs": [],
   "source": [
    "# convert unicode to ascii\n",
    "def jp_unicode_to_ascii(text):\n",
    "    return ''.join(ascii_text for ascii_text in unicodedata.normalize('NFKD', text))\n",
    "\n",
    "# remove any accented characters for English-language text\n",
    "def en_unicode_to_ascii(text):\n",
    "    return ''.join(ascii_text for ascii_text in unicodedata.normalize('NFKD', text)\n",
    "                   .encode('ascii', 'ignore').decode('utf-8', 'ignore'))"
   ]
  },
  {
   "cell_type": "code",
   "execution_count": 12,
   "metadata": {},
   "outputs": [
    {
     "name": "stdout",
     "output_type": "stream",
     "text": [
      "It's in my resume.\n",
      "それは履歴書にあります。\n"
     ]
    }
   ],
   "source": [
    "print(en_unicode_to_ascii(\"It's in my résumé.\"))\n",
    "print(jp_unicode_to_ascii(\"それは履歴書にあります。\"))"
   ]
  },
  {
   "cell_type": "code",
   "execution_count": 18,
   "metadata": {},
   "outputs": [],
   "source": [
    "# keep only Kanji, Hiragana, Katakana, numerals, and common punctuation: (\"。\", \"、\", \"?\", \"!\", \"！\"))\n",
    "def jp_preprocessing_and_spacing(text):\n",
    "    text = re.sub(r\"([。、?!！])\", r\" \\1\", text)\n",
    "    pattern = r\"[^\\u3041-\\u309F\\u30A1-\\u30FF\\uFF66-\\uFF9F\\u4E00-\\u9FD0\\u309B\\u3099\\uFF9E\\u309C\\u309A\\uFF9F?!！\\s、。.,0-9]+\"\n",
    "    text = re.sub(pattern, '', text).rstrip().strip()\n",
    "\n",
    "    # add spaces between words and punctuation\n",
    "    text = re.sub(r'[\" \"]+', \" \", text)\n",
    "    # remove interpunct (黒丸)\n",
    "    text = text.replace(\"・\" , \"\")\n",
    "\n",
    "    text = text.lower()\n",
    "\n",
    "    return text\n",
    "\n",
    "# remove special characters and place spaces between words and punctuation\n",
    "def en_preprocessing_and_spacing(text):\n",
    "    text = en_unicode_to_ascii(text.lower().strip())\n",
    "\n",
    "    # Reference:- https://stackoverflow.com/questions/3645931/python-padding-punctuation-with-white-spaces-keeping-punctuation\n",
    "    text = re.sub(r\"([?.!,])\", r\" \\1 \", text)\n",
    "    text = re.sub(r'[\" \"]+', \" \", text)\n",
    "\n",
    "    # replacing everything with space except (a-z, A-Z, \".\", \"?\", \"!\", \",\")\n",
    "    text = re.sub(r\"[^a-zA-Z?.!,]+\", \" \", text)\n",
    "    text = text.strip()\n",
    "\n",
    "    return text"
   ]
  },
  {
   "cell_type": "code",
   "execution_count": 19,
   "metadata": {},
   "outputs": [
    {
     "name": "stdout",
     "output_type": "stream",
     "text": [
      "hello , email world !\n",
      "こんにちは 、エメール世界 ！\n"
     ]
    }
   ],
   "source": [
    "print(en_preprocessing_and_spacing('Hello, email@world!'))\n",
    "print(jp_preprocessing_and_spacing('こんにちは、エメール＠世界！'))"
   ]
  },
  {
   "cell_type": "markdown",
   "metadata": {},
   "source": [
    "### Normalize Text"
   ]
  },
  {
   "cell_type": "code",
   "execution_count": 20,
   "metadata": {},
   "outputs": [],
   "source": [
    "# utilize preprocessing functions and mark start and end of sentences\n",
    "def normalize_text(japanese_text, english_text):\n",
    "    \n",
    "    inputs = []\n",
    "    targets = []\n",
    "    \n",
    "    for jp_text, en_text in zip(japanese_text, english_text):\n",
    "\n",
    "        # normalize Japanese\n",
    "        jp_text = jp_unicode_to_ascii(jp_text)\n",
    "        jp_text = jp_preprocessing_and_spacing(jp_text)\n",
    "        jp_text = tokenize_jp_sentence(jp_text)\n",
    "        jp_text = norm_kt(jp_text)\n",
    "\n",
    "        jp_text = \"<start> \" + jp_text + \" <end>\"\n",
    "        \n",
    "        inputs.append(jp_text)\n",
    "        \n",
    "        # normalize English\n",
    "        en_text = en_unicode_to_ascii(en_text)\n",
    "        en_text = en_preprocessing_and_spacing(en_text)\n",
    "\n",
    "        en_text = \"<start> \" + en_text + \" <end>\"\n",
    "        targets.append(en_text)\n",
    "\n",
    "    return inputs, targets"
   ]
  },
  {
   "cell_type": "code",
   "execution_count": 21,
   "metadata": {},
   "outputs": [],
   "source": [
    "inputs, targets = normalize_text(jp, en)"
   ]
  },
  {
   "cell_type": "code",
   "execution_count": 23,
   "metadata": {},
   "outputs": [
    {
     "name": "stdout",
     "output_type": "stream",
     "text": [
      "<start> あなた　は　戻っ　た　の　ね　ハロルド　？ <end>\n",
      "<start> you are back , aren t you , harold ? <end>\n",
      "<start> 俺　の　相手　は　シャーク　だ　。 <end>\n",
      "<start> my opponent is shark . <end>\n",
      "<start> 引き換え　だ　ある　事　と　ある　物　の <end>\n",
      "<start> this is one thing in exchange for another . <end>\n",
      "<start> もう　いい　よ　ごちそう　さま　ううん <end>\n",
      "<start> yeah , i m fine . <end>\n",
      "<start> もう　会社　に　は　来　ない　で　くれ　電話　も　する　な <end>\n",
      "<start> don t come to the office anymore . don t call me either . <end>\n"
     ]
    }
   ],
   "source": [
    "for i in range(5):\n",
    "    print(inputs[i])\n",
    "    print(targets[i])"
   ]
  },
  {
   "cell_type": "markdown",
   "metadata": {},
   "source": [
    "### Tokenize text"
   ]
  },
  {
   "cell_type": "code",
   "execution_count": 24,
   "metadata": {},
   "outputs": [],
   "source": [
    "def tokenize(lang):\n",
    "    # vectorize a text corpus\n",
    "    lang_tokenizer = tf.keras.preprocessing.text.Tokenizer(\n",
    "        filters=' ')\n",
    "\n",
    "    # updates internal vocabulary based on a corpus\n",
    "    lang_tokenizer.fit_on_texts(lang)\n",
    "\n",
    "    # Transforms each text in texts to a sequence of integers.\n",
    "    tensor = lang_tokenizer.texts_to_sequences(lang)\n",
    "\n",
    "    # Pads sequences to the same length.\n",
    "    tensor = tf.keras.preprocessing.sequence.pad_sequences(tensor,\n",
    "                                                          padding='post')\n",
    "    return tensor, lang_tokenizer"
   ]
  },
  {
   "cell_type": "code",
   "execution_count": 25,
   "metadata": {},
   "outputs": [
    {
     "name": "stdout",
     "output_type": "stream",
     "text": [
      "カンパニーの元社員が\n",
      "it seems a former employee...\n"
     ]
    },
    {
     "data": {
      "text/plain": [
       "(array([[2, 4, 3, 0, 0, 0, 0, 0, 0, 0],\n",
       "        [2, 5, 6, 7, 8, 9, 1, 1, 1, 3]], dtype=int32),\n",
       " <keras_preprocessing.text.Tokenizer at 0x7faba2ee41d0>)"
      ]
     },
     "execution_count": 25,
     "metadata": {},
     "output_type": "execute_result"
    }
   ],
   "source": [
    "print(jp[9])\n",
    "print(en[9])\n",
    "tokenize([inputs[9], targets[9]])"
   ]
  },
  {
   "cell_type": "code",
   "execution_count": 27,
   "metadata": {},
   "outputs": [],
   "source": [
    "input_tensor, input_lang_tokenizer = tokenize(jp)\n",
    "target_tensor, target_lang_tokenizer = tokenize(en)"
   ]
  },
  {
   "cell_type": "markdown",
   "metadata": {},
   "source": [
    "### Create input and target datasets"
   ]
  },
  {
   "cell_type": "code",
   "execution_count": 54,
   "metadata": {},
   "outputs": [],
   "source": [
    "input_tensor, input_lang_tokenize = tokenize(jp)\n",
    "target_tensor, target_lang_tokenize = tokenize(en)"
   ]
  },
  {
   "cell_type": "code",
   "execution_count": 55,
   "metadata": {},
   "outputs": [],
   "source": [
    "# Calculate max_length of the target tensors\n",
    "max_length_targ, max_length_inp = target_tensor.shape[1], input_tensor.shape[1]"
   ]
  },
  {
   "cell_type": "code",
   "execution_count": 56,
   "metadata": {},
   "outputs": [
    {
     "name": "stdout",
     "output_type": "stream",
     "text": [
      "22500 22500 4500 4500 3000 3000\n"
     ]
    }
   ],
   "source": [
    "# Creating train-test-validation splits\n",
    "# Reference: https://datascience.stackexchange.com/questions/15135/train-test-validation-set-splitting-in-sklearn\n",
    "train_ratio = 0.75\n",
    "validation_ratio = 0.15\n",
    "test_ratio = 0.10\n",
    "\n",
    "# train is 75% of the entire data set\n",
    "input_tensor_train, input_tensor_test, target_tensor_train, target_tensor_test = train_test_split(input_tensor, target_tensor, test_size=1 - train_ratio, random_state=1)\n",
    "\n",
    "# test is 10% of the initial data set\n",
    "# validation is 15% of the initial data set\n",
    "input_tensor_val, input_tensor_test, target_tensor_val, target_tensor_test = train_test_split(input_tensor_test, target_tensor_test, test_size=test_ratio/(test_ratio + validation_ratio)) \n",
    "\n",
    "# Show length\n",
    "print(len(input_tensor_train), len(target_tensor_train), len(input_tensor_val), len(target_tensor_val), len(input_tensor_test), len(target_tensor_test))"
   ]
  },
  {
   "cell_type": "code",
   "execution_count": 57,
   "metadata": {},
   "outputs": [],
   "source": [
    "def convert(lang, tensor):\n",
    "  for t in tensor:\n",
    "    if t!=0:\n",
    "      print (\"%d ----> %s\" % (t, lang.index_word[t]))"
   ]
  },
  {
   "cell_type": "code",
   "execution_count": 58,
   "metadata": {},
   "outputs": [
    {
     "name": "stdout",
     "output_type": "stream",
     "text": [
      "Input Language; index to word mapping\n",
      "7401 ----> 僕はただ...\n",
      "37 ----> .\n",
      "\n",
      "Target Language; index to word mapping\n",
      "20 ----> it's\n",
      "589 ----> just...\n"
     ]
    }
   ],
   "source": [
    "print (\"Input Language; index to word mapping\")\n",
    "convert(input_lang_tokenizer, input_tensor_train[1])\n",
    "print ()\n",
    "print (\"Target Language; index to word mapping\")\n",
    "convert(target_lang_tokenizer, target_tensor_train[1])"
   ]
  },
  {
   "cell_type": "code",
   "execution_count": null,
   "metadata": {},
   "outputs": [],
   "source": []
  }
 ],
 "metadata": {
  "kernelspec": {
   "display_name": "Python 3",
   "language": "python",
   "name": "python3"
  },
  "language_info": {
   "codemirror_mode": {
    "name": "ipython",
    "version": 3
   },
   "file_extension": ".py",
   "mimetype": "text/x-python",
   "name": "python",
   "nbconvert_exporter": "python",
   "pygments_lexer": "ipython3",
   "version": "3.7.7"
  }
 },
 "nbformat": 4,
 "nbformat_minor": 4
}
