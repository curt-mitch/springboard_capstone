{
 "cells": [
  {
   "cell_type": "markdown",
   "metadata": {},
   "source": [
    "### This notebook evaluates BLEU scores to assess the accuracy of benchmark translations provided by Google's Translation API.\n",
    "##### BLEU (Bilingual Evaluation Understudy) is an algorithm used to score and evaluate the accuracy of a machine translation by comparing how close it is to a human-derived translation. See https://en.wikipedia.org/wiki/BLEU for more information."
   ]
  },
  {
   "cell_type": "code",
   "execution_count": 40,
   "metadata": {},
   "outputs": [],
   "source": [
    "import json\n",
    "from nltk.translate.bleu_score import sentence_bleu\n",
    "from spacy.tokenizer import Tokenizer\n",
    "from spacy.lang.en import English"
   ]
  },
  {
   "cell_type": "code",
   "execution_count": 58,
   "metadata": {},
   "outputs": [],
   "source": [
    "# Create a blank Tokenizer with just the English vocab\n",
    "nlp = English()\n",
    "tokenizer = nlp.Defaults.create_tokenizer(nlp)"
   ]
  },
  {
   "cell_type": "code",
   "execution_count": 44,
   "metadata": {},
   "outputs": [],
   "source": [
    "benchmark_json = ''\n",
    "with open('./benchmark_translations.json', 'r') as input:\n",
    "        benchmark_json = json.load(input)"
   ]
  },
  {
   "cell_type": "code",
   "execution_count": 61,
   "metadata": {},
   "outputs": [
    {
     "name": "stdout",
     "output_type": "stream",
     "text": [
      "0\n",
      "7.098450576376767e-155\n",
      "2.0689293863297568e-78\n",
      "0.5799150677091909\n",
      "0.16636035585327164\n",
      "2.3418691615477335e-78\n",
      "9.918892480173173e-232\n",
      "2.0667044048761072e-78\n",
      "1.5319719891192393e-231\n",
      "5.034962489996014e-155\n",
      "0.10405634512019062\n",
      "1.2508498911928379e-231\n",
      "9.170599044431425e-155\n",
      "1.657519236526964e-232\n",
      "0.10828680859874398\n",
      "0.18941704061166767\n",
      "7.743519760865855e-156\n",
      "0.21314568971111159\n",
      "1.0832677820940877e-231\n",
      "5.038149038220555e-155\n"
     ]
    }
   ],
   "source": [
    "for translation in benchmark_json:\n",
    "    reference_tokens = [[token.text for token in tokenizer(translation['e'])]]\n",
    "    candidate_tokens = [token.text for token in tokenizer(translation['gc_result'])]\n",
    "    print(sentence_bleu(reference_tokens, candidate_tokens))"
   ]
  },
  {
   "cell_type": "code",
   "execution_count": null,
   "metadata": {},
   "outputs": [],
   "source": []
  }
 ],
 "metadata": {
  "kernelspec": {
   "display_name": "Python 3",
   "language": "python",
   "name": "python3"
  },
  "language_info": {
   "codemirror_mode": {
    "name": "ipython",
    "version": 3
   },
   "file_extension": ".py",
   "mimetype": "text/x-python",
   "name": "python",
   "nbconvert_exporter": "python",
   "pygments_lexer": "ipython3",
   "version": "3.7.4"
  }
 },
 "nbformat": 4,
 "nbformat_minor": 2
}
